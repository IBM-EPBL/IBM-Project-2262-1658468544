{
  "cells": [
    {
      "cell_type": "code",
      "source": [
        "from google.colab import drive\n",
        "drive.mount('/content/gdrive')"
      ],
      "metadata": {
        "colab": {
          "base_uri": "https://localhost:8080/"
        },
        "id": "_IMCY3MIAduF",
        "outputId": "bd64b9cc-fd71-49aa-e2a7-e2cc68563162"
      },
      "id": "_IMCY3MIAduF",
      "execution_count": 1,
      "outputs": [
        {
          "output_type": "stream",
          "name": "stdout",
          "text": [
            "Mounted at /content/gdrive\n"
          ]
        }
      ]
    },
    {
      "cell_type": "markdown",
      "source": [
        "**FOR BODY DAMAGE**"
      ],
      "metadata": {
        "id": "5ItrZbtf9e1R"
      },
      "id": "5ItrZbtf9e1R"
    },
    {
      "cell_type": "markdown",
      "source": [
        "**IMAGE PRE PROCESSING**"
      ],
      "metadata": {
        "id": "4upSLiyHPvUM"
      },
      "id": "4upSLiyHPvUM"
    },
    {
      "cell_type": "markdown",
      "source": [
        "**1. Import The ImageDataGenerator Library**"
      ],
      "metadata": {
        "id": "tUX-npw8QLd4"
      },
      "id": "tUX-npw8QLd4"
    },
    {
      "cell_type": "code",
      "source": [
        "from tensorflow.keras.preprocessing.image import ImageDataGenerator"
      ],
      "metadata": {
        "id": "Q7W0zx0AQSp3"
      },
      "id": "Q7W0zx0AQSp3",
      "execution_count": 2,
      "outputs": []
    },
    {
      "cell_type": "markdown",
      "source": [
        "**2. Configure ImageDataGenerator Class**"
      ],
      "metadata": {
        "id": "x8_hBR44QbD1"
      },
      "id": "x8_hBR44QbD1"
    },
    {
      "cell_type": "code",
      "source": [
        "train_datagen = ImageDataGenerator(rescale = 1./255,\n",
        "                                   shear_range = 0.1,\n",
        "                                   zoom_range = 0.1,\n",
        "                                   horizontal_flip = True)\n",
        "\n",
        "test_datagen = ImageDataGenerator(rescale = 1./255)"
      ],
      "metadata": {
        "id": "pkNMQpIWQnON"
      },
      "id": "pkNMQpIWQnON",
      "execution_count": 3,
      "outputs": []
    },
    {
      "cell_type": "markdown",
      "source": [
        "**3. Apply ImageDataGenerator Functionality To Trainset And Testset**"
      ],
      "metadata": {
        "id": "moSZOIw2Qym_"
      },
      "id": "moSZOIw2Qym_"
    },
    {
      "cell_type": "code",
      "source": [
        "training_set = train_datagen.flow_from_directory('/content/gdrive/MyDrive/Car damage/body/training',\n",
        "                                                 target_size = (224, 224),\n",
        "                                                 batch_size = 10,\n",
        "                                                 class_mode = 'categorical')\n",
        "test_set = test_datagen.flow_from_directory('/content/gdrive/MyDrive/Car damage/body/validation',\n",
        "                                            target_size = (224, 224),\n",
        "                                            batch_size = 10,\n",
        "                                            class_mode = 'categorical')"
      ],
      "metadata": {
        "colab": {
          "base_uri": "https://localhost:8080/"
        },
        "id": "4ZBW4-s0RRsv",
        "outputId": "ee0c5ebc-1d33-41a9-f473-1c6556c4da91"
      },
      "id": "4ZBW4-s0RRsv",
      "execution_count": 4,
      "outputs": [
        {
          "output_type": "stream",
          "name": "stdout",
          "text": [
            "Found 979 images belonging to 3 classes.\n",
            "Found 171 images belonging to 3 classes.\n"
          ]
        }
      ]
    },
    {
      "cell_type": "markdown",
      "source": [
        "**MODEL BUILDING**"
      ],
      "metadata": {
        "id": "TTQOiEz4S5z1"
      },
      "id": "TTQOiEz4S5z1"
    },
    {
      "cell_type": "markdown",
      "source": [
        "**1. Importing The Model Building Libraries**"
      ],
      "metadata": {
        "id": "KbEn8IpjTLPG"
      },
      "id": "KbEn8IpjTLPG"
    },
    {
      "cell_type": "code",
      "source": [
        "import tensorflow as tf\n",
        "from tensorflow.keras.layers import Input, Lambda, Dense, Flatten\n",
        "from tensorflow.keras.models import Model\n",
        "from tensorflow.keras.applications.vgg16 import VGG16\n",
        "from tensorflow.keras.applications.vgg19 import VGG19\n",
        "from tensorflow.keras.preprocessing import image\n",
        "from tensorflow.keras.preprocessing.image import ImageDataGenerator,load_img\n",
        "from tensorflow.keras.models import Sequential\n",
        "import numpy as np\n",
        "from glob import glob"
      ],
      "metadata": {
        "id": "tWJ6eJW6TcmJ"
      },
      "id": "tWJ6eJW6TcmJ",
      "execution_count": 5,
      "outputs": []
    },
    {
      "cell_type": "markdown",
      "source": [
        "**2. Loading The Model**"
      ],
      "metadata": {
        "id": "1PlnSBzYT2Yz"
      },
      "id": "1PlnSBzYT2Yz"
    },
    {
      "cell_type": "code",
      "source": [
        "IMAGE_SIZE = [224, 224]\n",
        "\n",
        "train_path = '/content/gdrive/MyDrive/Car damage/body/training'\n",
        "valid_path = '/content/gdrive/MyDrive/Car damage/body/validation'"
      ],
      "metadata": {
        "id": "xv2opFfyT-jc"
      },
      "id": "xv2opFfyT-jc",
      "execution_count": 6,
      "outputs": []
    },
    {
      "cell_type": "code",
      "source": [
        "vgg16 = VGG16(input_shape=IMAGE_SIZE + [3], weights='imagenet', include_top=False)"
      ],
      "metadata": {
        "id": "868dPp7PUNvQ",
        "colab": {
          "base_uri": "https://localhost:8080/"
        },
        "outputId": "caee0970-c83e-4fa1-fbd2-98d1b2d67fce"
      },
      "id": "868dPp7PUNvQ",
      "execution_count": 7,
      "outputs": [
        {
          "output_type": "stream",
          "name": "stdout",
          "text": [
            "Downloading data from https://storage.googleapis.com/tensorflow/keras-applications/vgg16/vgg16_weights_tf_dim_ordering_tf_kernels_notop.h5\n",
            "58889256/58889256 [==============================] - 0s 0us/step\n"
          ]
        }
      ]
    },
    {
      "cell_type": "markdown",
      "source": [
        "**3. Adding Flatten Layer**"
      ],
      "metadata": {
        "id": "z2MxTpR6UbH4"
      },
      "id": "z2MxTpR6UbH4"
    },
    {
      "cell_type": "code",
      "source": [
        "for layer in vgg16.layers:\n",
        "    layer.trainable = False"
      ],
      "metadata": {
        "id": "6guFasPkUmBb"
      },
      "id": "6guFasPkUmBb",
      "execution_count": 8,
      "outputs": []
    },
    {
      "cell_type": "code",
      "source": [
        "folders = glob('/content/gdrive/MyDrive/Car damage/body/training/*')"
      ],
      "metadata": {
        "id": "QtflKLI4VE03"
      },
      "id": "QtflKLI4VE03",
      "execution_count": 9,
      "outputs": []
    },
    {
      "cell_type": "code",
      "source": [
        "folders"
      ],
      "metadata": {
        "colab": {
          "base_uri": "https://localhost:8080/"
        },
        "id": "vBz2KdQHVYiM",
        "outputId": "795ac7c5-271d-4f8d-b386-09667a920263"
      },
      "id": "vBz2KdQHVYiM",
      "execution_count": 10,
      "outputs": [
        {
          "output_type": "execute_result",
          "data": {
            "text/plain": [
              "['/content/gdrive/MyDrive/Car damage/body/training/02-side',\n",
              " '/content/gdrive/MyDrive/Car damage/body/training/01-rear',\n",
              " '/content/gdrive/MyDrive/Car damage/body/training/00-front']"
            ]
          },
          "metadata": {},
          "execution_count": 10
        }
      ]
    },
    {
      "cell_type": "code",
      "source": [
        "x = Flatten()(vgg16.output)"
      ],
      "metadata": {
        "id": "1FPaK-UVVglq"
      },
      "id": "1FPaK-UVVglq",
      "execution_count": 11,
      "outputs": []
    },
    {
      "cell_type": "code",
      "source": [
        "len(folders)"
      ],
      "metadata": {
        "colab": {
          "base_uri": "https://localhost:8080/"
        },
        "id": "R5O-b7pKV68Z",
        "outputId": "4734ed75-aaaf-4832-b1ba-19f91f9d1182"
      },
      "id": "R5O-b7pKV68Z",
      "execution_count": 12,
      "outputs": [
        {
          "output_type": "execute_result",
          "data": {
            "text/plain": [
              "3"
            ]
          },
          "metadata": {},
          "execution_count": 12
        }
      ]
    },
    {
      "cell_type": "markdown",
      "source": [
        "**4. Adding Output Layer**"
      ],
      "metadata": {
        "id": "GdsssvaiVr5B"
      },
      "id": "GdsssvaiVr5B"
    },
    {
      "cell_type": "code",
      "source": [
        "prediction = Dense(len(folders), activation='softmax')(x)"
      ],
      "metadata": {
        "id": "gSuix9FSVyds"
      },
      "id": "gSuix9FSVyds",
      "execution_count": 13,
      "outputs": []
    },
    {
      "cell_type": "markdown",
      "source": [
        "**5. Creating A Model Object**"
      ],
      "metadata": {
        "id": "rc9LIgROWJv4"
      },
      "id": "rc9LIgROWJv4"
    },
    {
      "cell_type": "code",
      "source": [
        "model = Model(inputs=vgg16.input, outputs=prediction)"
      ],
      "metadata": {
        "id": "CXHsIv3wWTqm"
      },
      "id": "CXHsIv3wWTqm",
      "execution_count": 14,
      "outputs": []
    },
    {
      "cell_type": "code",
      "source": [
        "model.summary()"
      ],
      "metadata": {
        "colab": {
          "base_uri": "https://localhost:8080/"
        },
        "id": "e11FiA_hWcpe",
        "outputId": "8e89d94a-9ad7-47d8-dd72-d71104f18000"
      },
      "id": "e11FiA_hWcpe",
      "execution_count": 15,
      "outputs": [
        {
          "output_type": "stream",
          "name": "stdout",
          "text": [
            "Model: \"model\"\n",
            "_________________________________________________________________\n",
            " Layer (type)                Output Shape              Param #   \n",
            "=================================================================\n",
            " input_1 (InputLayer)        [(None, 224, 224, 3)]     0         \n",
            "                                                                 \n",
            " block1_conv1 (Conv2D)       (None, 224, 224, 64)      1792      \n",
            "                                                                 \n",
            " block1_conv2 (Conv2D)       (None, 224, 224, 64)      36928     \n",
            "                                                                 \n",
            " block1_pool (MaxPooling2D)  (None, 112, 112, 64)      0         \n",
            "                                                                 \n",
            " block2_conv1 (Conv2D)       (None, 112, 112, 128)     73856     \n",
            "                                                                 \n",
            " block2_conv2 (Conv2D)       (None, 112, 112, 128)     147584    \n",
            "                                                                 \n",
            " block2_pool (MaxPooling2D)  (None, 56, 56, 128)       0         \n",
            "                                                                 \n",
            " block3_conv1 (Conv2D)       (None, 56, 56, 256)       295168    \n",
            "                                                                 \n",
            " block3_conv2 (Conv2D)       (None, 56, 56, 256)       590080    \n",
            "                                                                 \n",
            " block3_conv3 (Conv2D)       (None, 56, 56, 256)       590080    \n",
            "                                                                 \n",
            " block3_pool (MaxPooling2D)  (None, 28, 28, 256)       0         \n",
            "                                                                 \n",
            " block4_conv1 (Conv2D)       (None, 28, 28, 512)       1180160   \n",
            "                                                                 \n",
            " block4_conv2 (Conv2D)       (None, 28, 28, 512)       2359808   \n",
            "                                                                 \n",
            " block4_conv3 (Conv2D)       (None, 28, 28, 512)       2359808   \n",
            "                                                                 \n",
            " block4_pool (MaxPooling2D)  (None, 14, 14, 512)       0         \n",
            "                                                                 \n",
            " block5_conv1 (Conv2D)       (None, 14, 14, 512)       2359808   \n",
            "                                                                 \n",
            " block5_conv2 (Conv2D)       (None, 14, 14, 512)       2359808   \n",
            "                                                                 \n",
            " block5_conv3 (Conv2D)       (None, 14, 14, 512)       2359808   \n",
            "                                                                 \n",
            " block5_pool (MaxPooling2D)  (None, 7, 7, 512)         0         \n",
            "                                                                 \n",
            " flatten (Flatten)           (None, 25088)             0         \n",
            "                                                                 \n",
            " dense (Dense)               (None, 3)                 75267     \n",
            "                                                                 \n",
            "=================================================================\n",
            "Total params: 14,789,955\n",
            "Trainable params: 75,267\n",
            "Non-trainable params: 14,714,688\n",
            "_________________________________________________________________\n"
          ]
        }
      ]
    },
    {
      "cell_type": "markdown",
      "source": [
        "**6. Configure The Learning Process**"
      ],
      "metadata": {
        "id": "FDCqqtrsWj0p"
      },
      "id": "FDCqqtrsWj0p"
    },
    {
      "cell_type": "code",
      "source": [
        "model.compile(\n",
        "  loss='categorical_crossentropy',\n",
        "  optimizer='adam',\n",
        "  metrics=['accuracy']\n",
        ")"
      ],
      "metadata": {
        "id": "LzFvYloeWvjo"
      },
      "id": "LzFvYloeWvjo",
      "execution_count": 16,
      "outputs": []
    },
    {
      "cell_type": "markdown",
      "source": [
        "**7. Train The Model**"
      ],
      "metadata": {
        "id": "sae2vMV2XCRI"
      },
      "id": "sae2vMV2XCRI"
    },
    {
      "cell_type": "code",
      "source": [
        "r = model.fit_generator(\n",
        "  training_set,\n",
        "  validation_data=test_set,\n",
        "  epochs=25,\n",
        "  steps_per_epoch=len(training_set),\n",
        "  validation_steps=len(test_set)\n",
        ")"
      ],
      "metadata": {
        "colab": {
          "base_uri": "https://localhost:8080/"
        },
        "id": "9YqvVYZ7XFFl",
        "outputId": "8d0f1f93-cd09-4555-968e-fb84823ffe40"
      },
      "id": "9YqvVYZ7XFFl",
      "execution_count": 17,
      "outputs": [
        {
          "metadata": {
            "tags": null
          },
          "name": "stderr",
          "output_type": "stream",
          "text": [
            "/usr/local/lib/python3.7/dist-packages/ipykernel_launcher.py:6: UserWarning: `Model.fit_generator` is deprecated and will be removed in a future version. Please use `Model.fit`, which supports generators.\n",
            "  \n"
          ]
        },
        {
          "output_type": "stream",
          "name": "stdout",
          "text": [
            "Epoch 1/25\n",
            "98/98 [==============================] - 645s 7s/step - loss: 1.2343 - accuracy: 0.5128 - val_loss: 0.8886 - val_accuracy: 0.6491\n",
            "Epoch 2/25\n",
            "98/98 [==============================] - 633s 6s/step - loss: 0.6810 - accuracy: 0.7487 - val_loss: 0.8953 - val_accuracy: 0.6667\n",
            "Epoch 3/25\n",
            "98/98 [==============================] - 636s 6s/step - loss: 0.5376 - accuracy: 0.7967 - val_loss: 0.9190 - val_accuracy: 0.6374\n",
            "Epoch 4/25\n",
            "98/98 [==============================] - 635s 6s/step - loss: 0.4057 - accuracy: 0.8458 - val_loss: 1.2112 - val_accuracy: 0.6199\n",
            "Epoch 5/25\n",
            "98/98 [==============================] - 639s 7s/step - loss: 0.3807 - accuracy: 0.8570 - val_loss: 1.4361 - val_accuracy: 0.6608\n",
            "Epoch 6/25\n",
            "98/98 [==============================] - 635s 6s/step - loss: 0.2567 - accuracy: 0.9101 - val_loss: 1.0055 - val_accuracy: 0.6550\n",
            "Epoch 7/25\n",
            "98/98 [==============================] - 637s 6s/step - loss: 0.1830 - accuracy: 0.9367 - val_loss: 1.2190 - val_accuracy: 0.6667\n",
            "Epoch 8/25\n",
            "98/98 [==============================] - 637s 7s/step - loss: 0.1320 - accuracy: 0.9581 - val_loss: 1.0035 - val_accuracy: 0.6959\n",
            "Epoch 9/25\n",
            "98/98 [==============================] - 634s 6s/step - loss: 0.1484 - accuracy: 0.9479 - val_loss: 1.0932 - val_accuracy: 0.6608\n",
            "Epoch 10/25\n",
            "98/98 [==============================] - 635s 6s/step - loss: 0.1204 - accuracy: 0.9642 - val_loss: 1.0959 - val_accuracy: 0.7018\n",
            "Epoch 11/25\n",
            "98/98 [==============================] - 638s 7s/step - loss: 0.1449 - accuracy: 0.9479 - val_loss: 1.1143 - val_accuracy: 0.7135\n",
            "Epoch 12/25\n",
            "98/98 [==============================] - 634s 6s/step - loss: 0.1245 - accuracy: 0.9663 - val_loss: 1.3534 - val_accuracy: 0.6725\n",
            "Epoch 13/25\n",
            "98/98 [==============================] - 630s 6s/step - loss: 0.0775 - accuracy: 0.9826 - val_loss: 1.2147 - val_accuracy: 0.6608\n",
            "Epoch 14/25\n",
            "98/98 [==============================] - 626s 6s/step - loss: 0.0912 - accuracy: 0.9796 - val_loss: 1.1118 - val_accuracy: 0.7018\n",
            "Epoch 15/25\n",
            "98/98 [==============================] - 624s 6s/step - loss: 0.0582 - accuracy: 0.9918 - val_loss: 1.1216 - val_accuracy: 0.6901\n",
            "Epoch 16/25\n",
            "98/98 [==============================] - 624s 6s/step - loss: 0.0690 - accuracy: 0.9816 - val_loss: 1.1281 - val_accuracy: 0.6959\n",
            "Epoch 17/25\n",
            "98/98 [==============================] - 625s 6s/step - loss: 0.0501 - accuracy: 0.9867 - val_loss: 1.1887 - val_accuracy: 0.6667\n",
            "Epoch 18/25\n",
            "98/98 [==============================] - 624s 6s/step - loss: 0.0663 - accuracy: 0.9867 - val_loss: 1.1870 - val_accuracy: 0.6842\n",
            "Epoch 19/25\n",
            "98/98 [==============================] - 624s 6s/step - loss: 0.0752 - accuracy: 0.9785 - val_loss: 1.4732 - val_accuracy: 0.6725\n",
            "Epoch 20/25\n",
            "98/98 [==============================] - 624s 6s/step - loss: 0.0691 - accuracy: 0.9816 - val_loss: 1.3494 - val_accuracy: 0.6667\n",
            "Epoch 21/25\n",
            "98/98 [==============================] - 626s 6s/step - loss: 0.0303 - accuracy: 0.9939 - val_loss: 1.1859 - val_accuracy: 0.7018\n",
            "Epoch 22/25\n",
            "98/98 [==============================] - 626s 6s/step - loss: 0.0450 - accuracy: 0.9918 - val_loss: 1.1861 - val_accuracy: 0.7135\n",
            "Epoch 23/25\n",
            "98/98 [==============================] - 625s 6s/step - loss: 0.0704 - accuracy: 0.9826 - val_loss: 1.2914 - val_accuracy: 0.7193\n",
            "Epoch 24/25\n",
            "98/98 [==============================] - 626s 6s/step - loss: 0.0620 - accuracy: 0.9847 - val_loss: 1.4200 - val_accuracy: 0.6667\n",
            "Epoch 25/25\n",
            "98/98 [==============================] - 625s 6s/step - loss: 0.0448 - accuracy: 0.9877 - val_loss: 1.5288 - val_accuracy: 0.6608\n"
          ]
        }
      ]
    },
    {
      "cell_type": "markdown",
      "source": [
        "**8. Save The Model**"
      ],
      "metadata": {
        "id": "tzbWM_g5TRgm"
      },
      "id": "tzbWM_g5TRgm"
    },
    {
      "cell_type": "code",
      "source": [
        "from tensorflow.keras.models import load_model\n",
        "\n",
        "model.save('/content/gdrive/MyDrive/Car damage/body.h5')"
      ],
      "metadata": {
        "id": "FUb7o9JnTbqW"
      },
      "id": "FUb7o9JnTbqW",
      "execution_count": 18,
      "outputs": []
    },
    {
      "cell_type": "markdown",
      "source": [
        "**9. Test The Model**"
      ],
      "metadata": {
        "id": "qoAmob5UUKFX"
      },
      "id": "qoAmob5UUKFX"
    },
    {
      "cell_type": "code",
      "source": [
        "from tensorflow.keras.models import load_model\n",
        "import cv2\n",
        "from skimage.transform import resize"
      ],
      "metadata": {
        "id": "DXVAIxOQUTVf"
      },
      "id": "DXVAIxOQUTVf",
      "execution_count": 19,
      "outputs": []
    },
    {
      "cell_type": "code",
      "source": [
        "model = load_model('/content/gdrive/MyDrive/Car damage/body.h5')"
      ],
      "metadata": {
        "id": "n7heHH7gU3Rk"
      },
      "id": "n7heHH7gU3Rk",
      "execution_count": 20,
      "outputs": []
    },
    {
      "cell_type": "code",
      "source": [
        "def detect(frame):\n",
        "  img = cv2.resize(frame,(224,224))\n",
        "  img = cv2.cvtColor(img,cv2.COLOR_BGR2RGB)\n",
        "\n",
        "  if(np.max(img)>1):\n",
        "    img = img/255.0\n",
        "  img = np.array([img])\n",
        "  prediction = model.predict(img)\n",
        "  label = [\"front\",\"rear\",\"side\"]\n",
        "  preds = label[np.argmax(prediction)]\n",
        "  return preds"
      ],
      "metadata": {
        "id": "x3DqPP-PVD8r"
      },
      "id": "x3DqPP-PVD8r",
      "execution_count": 21,
      "outputs": []
    },
    {
      "cell_type": "code",
      "source": [
        "import numpy as np"
      ],
      "metadata": {
        "id": "hhjcxXt0YxAT"
      },
      "id": "hhjcxXt0YxAT",
      "execution_count": 22,
      "outputs": []
    },
    {
      "cell_type": "code",
      "source": [
        "data = \"/content/gdrive/MyDrive/Car damage/body/training/00-front/0010.JPEG\"\n",
        "image = cv2.imread(data)\n",
        "print(detect(image))"
      ],
      "metadata": {
        "colab": {
          "base_uri": "https://localhost:8080/"
        },
        "id": "IQ_Xg18RZQPD",
        "outputId": "318fa96a-b501-4add-c63b-1f16e520464e"
      },
      "id": "IQ_Xg18RZQPD",
      "execution_count": 23,
      "outputs": [
        {
          "output_type": "stream",
          "name": "stdout",
          "text": [
            "1/1 [==============================] - 1s 716ms/step\n",
            "front\n"
          ]
        }
      ]
    }
  ],
  "metadata": {
    "kernelspec": {
      "display_name": "Python 3.10.8 64-bit",
      "language": "python",
      "name": "python3"
    },
    "language_info": {
      "codemirror_mode": {
        "name": "ipython",
        "version": 3
      },
      "file_extension": ".py",
      "mimetype": "text/x-python",
      "name": "python",
      "nbconvert_exporter": "python",
      "pygments_lexer": "ipython3",
      "version": "3.10.8"
    },
    "vscode": {
      "interpreter": {
        "hash": "7b5ef6b551024c98fdd1172c006d1f07261c9b107ca28d94021bf8a6977c4fdb"
      }
    },
    "colab": {
      "provenance": [],
      "collapsed_sections": []
    }
  },
  "nbformat": 4,
  "nbformat_minor": 5
}