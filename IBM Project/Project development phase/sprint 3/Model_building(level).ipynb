{
  "cells": [
    {
      "cell_type": "markdown",
      "source": [
        "**FOR LEVEL DAMAGE**"
      ],
      "metadata": {
        "id": "83pyn2om9qiY"
      },
      "id": "83pyn2om9qiY"
    },
    {
      "cell_type": "code",
      "source": [
        "from google.colab import drive\n",
        "drive.mount('/content/gdrive')"
      ],
      "metadata": {
        "id": "LfdcoJlAguSG"
      },
      "id": "LfdcoJlAguSG",
      "execution_count": null,
      "outputs": []
    },
    {
      "cell_type": "markdown",
      "source": [
        "**IMAGE PRE PROCESSING**"
      ],
      "metadata": {
        "id": "JxzqUpXR9ykV"
      },
      "id": "JxzqUpXR9ykV"
    },
    {
      "cell_type": "markdown",
      "source": [
        "**1. Import The ImageDataGenerator Library**"
      ],
      "metadata": {
        "id": "6O9D5Xc4-B5V"
      },
      "id": "6O9D5Xc4-B5V"
    },
    {
      "cell_type": "code",
      "source": [
        "from tensorflow.keras.preprocessing.image import ImageDataGenerator"
      ],
      "metadata": {
        "id": "D6OypuUm-YLn"
      },
      "id": "D6OypuUm-YLn",
      "execution_count": null,
      "outputs": []
    },
    {
      "cell_type": "markdown",
      "source": [
        "**2. Configure ImageDataGenerator Class**"
      ],
      "metadata": {
        "id": "88kJRU3b-o1O"
      },
      "id": "88kJRU3b-o1O"
    },
    {
      "cell_type": "code",
      "source": [
        "train_datagen = ImageDataGenerator(rescale = 1./255,\n",
        "                                   shear_range = 0.1,\n",
        "                                   zoom_range = 0.1,\n",
        "                                   horizontal_flip = True)\n",
        "\n",
        "test_datagen = ImageDataGenerator(rescale = 1./255)"
      ],
      "metadata": {
        "id": "570kr4_9-yAs"
      },
      "id": "570kr4_9-yAs",
      "execution_count": null,
      "outputs": []
    },
    {
      "cell_type": "markdown",
      "source": [
        "**3. Apply ImageDataGenerator Functionality To Trainset And Testset**"
      ],
      "metadata": {
        "id": "v12gjWvx-7If"
      },
      "id": "v12gjWvx-7If"
    },
    {
      "cell_type": "code",
      "source": [
        "training_set = train_datagen.flow_from_directory('/content/gdrive/MyDrive/Car damage/level/training',\n",
        "                                                 target_size = (224, 224),\n",
        "                                                 batch_size = 10,\n",
        "                                                 class_mode = 'categorical')\n",
        "test_set = test_datagen.flow_from_directory('/content/gdrive/MyDrive/Car damage/level/validation',\n",
        "                                            target_size = (224, 224),\n",
        "                                            batch_size = 10,\n",
        "                                            class_mode = 'categorical')"
      ],
      "metadata": {
        "id": "QqdWVDkO_IQP"
      },
      "id": "QqdWVDkO_IQP",
      "execution_count": null,
      "outputs": []
    },
    {
      "cell_type": "markdown",
      "source": [
        "**MODEL BUILDING**"
      ],
      "metadata": {
        "id": "yRiwIscQ_nFm"
      },
      "id": "yRiwIscQ_nFm"
    },
    {
      "cell_type": "markdown",
      "source": [
        "**1. Importing The Model Building Libraries**"
      ],
      "metadata": {
        "id": "tSPaBbBA_wQJ"
      },
      "id": "tSPaBbBA_wQJ"
    },
    {
      "cell_type": "code",
      "source": [
        "import tensorflow as tf\n",
        "from tensorflow.keras.layers import Input, Lambda, Dense, Flatten\n",
        "from tensorflow.keras.models import Model\n",
        "from tensorflow.keras.applications.vgg16 import VGG16\n",
        "from tensorflow.keras.applications.vgg19 import VGG19\n",
        "from tensorflow.keras.preprocessing import image\n",
        "from tensorflow.keras.preprocessing.image import ImageDataGenerator,load_img\n",
        "from tensorflow.keras.models import Sequential\n",
        "import numpy as np\n",
        "from glob import glob"
      ],
      "metadata": {
        "id": "l4zO4D_s_58s"
      },
      "id": "l4zO4D_s_58s",
      "execution_count": null,
      "outputs": []
    },
    {
      "cell_type": "markdown",
      "source": [
        "**2. Loading The Model**"
      ],
      "metadata": {
        "id": "sLQO6hQzABW-"
      },
      "id": "sLQO6hQzABW-"
    },
    {
      "cell_type": "code",
      "source": [
        "IMAGE_SIZE = [224, 224]\n",
        "\n",
        "train_path = '/content/gdrive/MyDrive/Car damage/level/training'\n",
        "valid_path = '/content/gdrive/MyDrive/Car damage/level/validation'"
      ],
      "metadata": {
        "id": "DVhzqTi_AOgf"
      },
      "id": "DVhzqTi_AOgf",
      "execution_count": null,
      "outputs": []
    },
    {
      "cell_type": "code",
      "source": [
        "vgg16 = VGG16(input_shape=IMAGE_SIZE + [3], weights='imagenet', include_top=False)"
      ],
      "metadata": {
        "id": "xvUbw2bBAob8"
      },
      "id": "xvUbw2bBAob8",
      "execution_count": null,
      "outputs": []
    },
    {
      "cell_type": "markdown",
      "source": [
        "**3. Adding Flatten Layer**"
      ],
      "metadata": {
        "id": "Pen9rH8QArho"
      },
      "id": "Pen9rH8QArho"
    },
    {
      "cell_type": "code",
      "source": [
        "for layer in vgg16.layers:\n",
        "    layer.trainable = False"
      ],
      "metadata": {
        "id": "kU4mdZ9KA8n0"
      },
      "id": "kU4mdZ9KA8n0",
      "execution_count": null,
      "outputs": []
    },
    {
      "cell_type": "code",
      "source": [
        "folders = glob('/content/gdrive/MyDrive/Car damage/level/training/*')"
      ],
      "metadata": {
        "id": "hx8t99hdBMUU"
      },
      "id": "hx8t99hdBMUU",
      "execution_count": null,
      "outputs": []
    },
    {
      "cell_type": "code",
      "source": [
        "folders"
      ],
      "metadata": {
        "id": "NLDa6I8dBY5O"
      },
      "id": "NLDa6I8dBY5O",
      "execution_count": null,
      "outputs": []
    },
    {
      "cell_type": "code",
      "source": [
        "x = Flatten()(vgg16.output)"
      ],
      "metadata": {
        "id": "t6ZisI-9Bgsf"
      },
      "id": "t6ZisI-9Bgsf",
      "execution_count": null,
      "outputs": []
    },
    {
      "cell_type": "code",
      "source": [
        "len(folders)"
      ],
      "metadata": {
        "id": "qwf3FYijBohw"
      },
      "id": "qwf3FYijBohw",
      "execution_count": null,
      "outputs": []
    },
    {
      "cell_type": "markdown",
      "source": [
        "**4. Adding Output Layer**"
      ],
      "metadata": {
        "id": "HU2EsxVlBxnp"
      },
      "id": "HU2EsxVlBxnp"
    },
    {
      "cell_type": "code",
      "source": [
        "prediction = Dense(len(folders), activation='softmax')(x)"
      ],
      "metadata": {
        "id": "mmrdVCUmB6PD"
      },
      "id": "mmrdVCUmB6PD",
      "execution_count": null,
      "outputs": []
    },
    {
      "cell_type": "markdown",
      "source": [
        "**5. Creating A Model Object**"
      ],
      "metadata": {
        "id": "IkXC2ROACAZA"
      },
      "id": "IkXC2ROACAZA"
    },
    {
      "cell_type": "code",
      "source": [
        "model = Model(inputs=vgg16.input, outputs=prediction)"
      ],
      "metadata": {
        "id": "E8doYSknCJ0Y"
      },
      "id": "E8doYSknCJ0Y",
      "execution_count": null,
      "outputs": []
    },
    {
      "cell_type": "code",
      "source": [
        "model.summary()"
      ],
      "metadata": {
        "id": "WNKbr6J6CwbX"
      },
      "id": "WNKbr6J6CwbX",
      "execution_count": null,
      "outputs": []
    },
    {
      "cell_type": "markdown",
      "source": [
        "**6. Configure The Learning Process**"
      ],
      "metadata": {
        "id": "DdtupHO0C6al"
      },
      "id": "DdtupHO0C6al"
    },
    {
      "cell_type": "code",
      "source": [
        "model.compile(\n",
        "  loss='categorical_crossentropy',\n",
        "  optimizer='adam',\n",
        "  metrics=['accuracy']\n",
        ")"
      ],
      "metadata": {
        "id": "cAkUHcJEDEJ6"
      },
      "id": "cAkUHcJEDEJ6",
      "execution_count": null,
      "outputs": []
    },
    {
      "cell_type": "markdown",
      "source": [
        "**7. Train The Model**"
      ],
      "metadata": {
        "id": "Y0X3zbBRDGE_"
      },
      "id": "Y0X3zbBRDGE_"
    },
    {
      "cell_type": "code",
      "source": [
        "r = model.fit_generator(\n",
        "  training_set,\n",
        "  validation_data=test_set,\n",
        "  epochs=25,\n",
        "  steps_per_epoch=len(training_set),\n",
        "  validation_steps=len(test_set)\n",
        ")"
      ],
      "metadata": {
        "id": "fCiQCMTjDQdE"
      },
      "id": "fCiQCMTjDQdE",
      "execution_count": null,
      "outputs": []
    },
    {
      "cell_type": "markdown",
      "source": [
        "**8. Save The Model**"
      ],
      "metadata": {
        "id": "GHqH-yFH9vAD"
      },
      "id": "GHqH-yFH9vAD"
    },
    {
      "cell_type": "code",
      "source": [
        "from tensorflow.keras.models import load_model\n",
        "\n",
        "model.save('/content/gdrive/MyDrive/Car damage/level.h5')"
      ],
      "metadata": {
        "id": "1DUIYfl098qy"
      },
      "id": "1DUIYfl098qy",
      "execution_count": null,
      "outputs": []
    },
    {
      "cell_type": "markdown",
      "source": [
        "**9. Test The Model**"
      ],
      "metadata": {
        "id": "0rDBBJ21-NlK"
      },
      "id": "0rDBBJ21-NlK"
    },
    {
      "cell_type": "code",
      "source": [
        "from tensorflow.keras.models import load_model\n",
        "import cv2\n",
        "from skimage.transform import resize"
      ],
      "metadata": {
        "id": "yzVhwanB-PyQ"
      },
      "id": "yzVhwanB-PyQ",
      "execution_count": null,
      "outputs": []
    },
    {
      "cell_type": "code",
      "source": [
        "model = load_model('/content/gdrive/MyDrive/Car damage/level.h5')"
      ],
      "metadata": {
        "id": "CaL4AwBU-hyZ"
      },
      "id": "CaL4AwBU-hyZ",
      "execution_count": null,
      "outputs": []
    },
    {
      "cell_type": "code",
      "source": [
        "def detect(frame):\n",
        "  img = cv2.resize(frame,(224,224))\n",
        "  img = cv2.cvtColor(img,cv2.COLOR_BGR2RGB)\n",
        "\n",
        "  if(np.max(img)>1):\n",
        "    img = img/255.0\n",
        "  img = np.array([img])\n",
        "  prediction = model.predict(img)\n",
        "  label = [\"minor\",\"moderate\",\"severe\"]\n",
        "  preds = label[np.argmax(prediction)]\n",
        "  return preds"
      ],
      "metadata": {
        "id": "0VUKbkxy-04W"
      },
      "id": "0VUKbkxy-04W",
      "execution_count": null,
      "outputs": []
    },
    {
      "cell_type": "code",
      "source": [
        "import numpy as np"
      ],
      "metadata": {
        "id": "cO8V8Ff0_SiS"
      },
      "id": "cO8V8Ff0_SiS",
      "execution_count": null,
      "outputs": []
    },
    {
      "cell_type": "code",
      "source": [
        "data = \"/content/gdrive/MyDrive/Car damage/level/validation/01-minor/0005.JPEG\"\n",
        "image = cv2.imread(data)\n",
        "print(detect(image))"
      ],
      "metadata": {
        "id": "5LlmY49e_U5Q"
      },
      "id": "5LlmY49e_U5Q",
      "execution_count": null,
      "outputs": []
    }
  ],
  "metadata": {
    "kernelspec": {
      "display_name": "Python 3.10.8 64-bit",
      "language": "python",
      "name": "python3"
    },
    "language_info": {
      "codemirror_mode": {
        "name": "ipython",
        "version": 3
      },
      "file_extension": ".py",
      "mimetype": "text/x-python",
      "name": "python",
      "nbconvert_exporter": "python",
      "pygments_lexer": "ipython3",
      "version": "3.10.8"
    },
    "vscode": {
      "interpreter": {
        "hash": "7b5ef6b551024c98fdd1172c006d1f07261c9b107ca28d94021bf8a6977c4fdb"
      }
    },
    "colab": {
      "provenance": [],
      "private_outputs": true
    },
    "accelerator": "TPU",
    "gpuClass": "standard"
  },
  "nbformat": 4,
  "nbformat_minor": 5
}