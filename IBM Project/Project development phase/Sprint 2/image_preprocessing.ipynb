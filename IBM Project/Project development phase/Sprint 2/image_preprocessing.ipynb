{
  "cells": [
    {
      "cell_type": "code",
      "source": [
        "from google.colab import drive\n",
        "drive.mount('/content/gdrive')"
      ],
      "metadata": {
        "colab": {
          "base_uri": "https://localhost:8080/"
        },
        "id": "_16T2nsbbKTT",
        "outputId": "429241a2-d724-496c-b0a7-7d74f25ba183"
      },
      "id": "_16T2nsbbKTT",
      "execution_count": 2,
      "outputs": [
        {
          "output_type": "stream",
          "name": "stdout",
          "text": [
            "Mounted at /content/gdrive\n"
          ]
        }
      ]
    },
    {
      "cell_type": "markdown",
      "source": [
        "**FOR BODY DAMAGE**"
      ],
      "metadata": {
        "id": "5ItrZbtf9e1R"
      },
      "id": "5ItrZbtf9e1R"
    },
    {
      "cell_type": "markdown",
      "source": [
        "**IMAGE PRE PROCESSING**"
      ],
      "metadata": {
        "id": "4upSLiyHPvUM"
      },
      "id": "4upSLiyHPvUM"
    },
    {
      "cell_type": "markdown",
      "source": [
        "**1. Import The ImageDataGenerator Library**"
      ],
      "metadata": {
        "id": "tUX-npw8QLd4"
      },
      "id": "tUX-npw8QLd4"
    },
    {
      "cell_type": "code",
      "source": [
        "from tensorflow.keras.preprocessing.image import ImageDataGenerator"
      ],
      "metadata": {
        "id": "Q7W0zx0AQSp3"
      },
      "id": "Q7W0zx0AQSp3",
      "execution_count": 3,
      "outputs": []
    },
    {
      "cell_type": "markdown",
      "source": [
        "**2. Configure ImageDataGenerator Class**"
      ],
      "metadata": {
        "id": "x8_hBR44QbD1"
      },
      "id": "x8_hBR44QbD1"
    },
    {
      "cell_type": "code",
      "source": [
        "train_datagen = ImageDataGenerator(rescale = 1./255,\n",
        "                                   shear_range = 0.1,\n",
        "                                   zoom_range = 0.1,\n",
        "                                   horizontal_flip = True)\n",
        "\n",
        "test_datagen = ImageDataGenerator(rescale = 1./255)"
      ],
      "metadata": {
        "id": "pkNMQpIWQnON"
      },
      "id": "pkNMQpIWQnON",
      "execution_count": 4,
      "outputs": []
    },
    {
      "cell_type": "markdown",
      "source": [
        "**3. Apply ImageDataGenerator Functionality To Trainset And Testset**"
      ],
      "metadata": {
        "id": "moSZOIw2Qym_"
      },
      "id": "moSZOIw2Qym_"
    },
    {
      "cell_type": "code",
      "source": [
        "training_set = train_datagen.flow_from_directory('/content/gdrive/MyDrive/Car damage/body/training',\n",
        "                                                 target_size = (224, 224),\n",
        "                                                 batch_size = 10,\n",
        "                                                 class_mode = 'categorical')\n",
        "test_set = test_datagen.flow_from_directory('/content/gdrive/MyDrive/Car damage/body/validation',\n",
        "                                            target_size = (224, 224),\n",
        "                                            batch_size = 10,\n",
        "                                            class_mode = 'categorical')"
      ],
      "metadata": {
        "colab": {
          "base_uri": "https://localhost:8080/"
        },
        "id": "4ZBW4-s0RRsv",
        "outputId": "c8f51a9e-d6f0-4785-e445-666faef2a2cc"
      },
      "id": "4ZBW4-s0RRsv",
      "execution_count": 5,
      "outputs": [
        {
          "output_type": "stream",
          "name": "stdout",
          "text": [
            "Found 979 images belonging to 3 classes.\n",
            "Found 171 images belonging to 3 classes.\n"
          ]
        }
      ]
    },
    {
      "cell_type": "markdown",
      "source": [
        "**FOR LEVEL DAMAGE**"
      ],
      "metadata": {
        "id": "83pyn2om9qiY"
      },
      "id": "83pyn2om9qiY"
    },
    {
      "cell_type": "markdown",
      "source": [
        "**IMAGE PRE PROCESSING**"
      ],
      "metadata": {
        "id": "JxzqUpXR9ykV"
      },
      "id": "JxzqUpXR9ykV"
    },
    {
      "cell_type": "markdown",
      "source": [
        "**1. Import The ImageDataGenerator Library**"
      ],
      "metadata": {
        "id": "6O9D5Xc4-B5V"
      },
      "id": "6O9D5Xc4-B5V"
    },
    {
      "cell_type": "code",
      "source": [
        "from tensorflow.keras.preprocessing.image import ImageDataGenerator"
      ],
      "metadata": {
        "id": "D6OypuUm-YLn"
      },
      "id": "D6OypuUm-YLn",
      "execution_count": 6,
      "outputs": []
    },
    {
      "cell_type": "markdown",
      "source": [
        "**2. Configure ImageDataGenerator Class**"
      ],
      "metadata": {
        "id": "88kJRU3b-o1O"
      },
      "id": "88kJRU3b-o1O"
    },
    {
      "cell_type": "code",
      "source": [
        "train_datagen = ImageDataGenerator(rescale = 1./255,\n",
        "                                   shear_range = 0.1,\n",
        "                                   zoom_range = 0.1,\n",
        "                                   horizontal_flip = True)\n",
        "\n",
        "test_datagen = ImageDataGenerator(rescale = 1./255)"
      ],
      "metadata": {
        "id": "570kr4_9-yAs"
      },
      "id": "570kr4_9-yAs",
      "execution_count": 7,
      "outputs": []
    },
    {
      "cell_type": "markdown",
      "source": [
        "**3. Apply ImageDataGenerator Functionality To Trainset And Testset**"
      ],
      "metadata": {
        "id": "v12gjWvx-7If"
      },
      "id": "v12gjWvx-7If"
    },
    {
      "cell_type": "code",
      "source": [
        "training_set = train_datagen.flow_from_directory('/content/gdrive/MyDrive/Car damage/level/training',\n",
        "                                                 target_size = (224, 224),\n",
        "                                                 batch_size = 10,\n",
        "                                                 class_mode = 'categorical')\n",
        "test_set = test_datagen.flow_from_directory('/content/gdrive/MyDrive/Car damage/level/validation',\n",
        "                                            target_size = (224, 224),\n",
        "                                            batch_size = 10,\n",
        "                                            class_mode = 'categorical')"
      ],
      "metadata": {
        "colab": {
          "base_uri": "https://localhost:8080/"
        },
        "id": "QqdWVDkO_IQP",
        "outputId": "3ca91c96-2cbc-4ac8-bb07-d6327d7a628e"
      },
      "id": "QqdWVDkO_IQP",
      "execution_count": 8,
      "outputs": [
        {
          "output_type": "stream",
          "name": "stdout",
          "text": [
            "Found 979 images belonging to 3 classes.\n",
            "Found 171 images belonging to 3 classes.\n"
          ]
        }
      ]
    }
  ],
  "metadata": {
    "kernelspec": {
      "display_name": "Python 3.10.8 64-bit",
      "language": "python",
      "name": "python3"
    },
    "language_info": {
      "codemirror_mode": {
        "name": "ipython",
        "version": 3
      },
      "file_extension": ".py",
      "mimetype": "text/x-python",
      "name": "python",
      "nbconvert_exporter": "python",
      "pygments_lexer": "ipython3",
      "version": "3.10.8"
    },
    "vscode": {
      "interpreter": {
        "hash": "7b5ef6b551024c98fdd1172c006d1f07261c9b107ca28d94021bf8a6977c4fdb"
      }
    },
    "colab": {
      "provenance": [],
      "collapsed_sections": []
    }
  },
  "nbformat": 4,
  "nbformat_minor": 5
}